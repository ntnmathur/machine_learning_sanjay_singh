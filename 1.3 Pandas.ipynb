{
 "cells": [
  {
   "cell_type": "code",
   "execution_count": 1,
   "metadata": {},
   "outputs": [],
   "source": [
    "import pandas as pd\n",
    "import numpy as np"
   ]
  },
  {
   "cell_type": "markdown",
   "metadata": {},
   "source": [
    "# Creating Dataframes"
   ]
  },
  {
   "cell_type": "code",
   "execution_count": 2,
   "metadata": {},
   "outputs": [
    {
     "data": {
      "text/html": [
       "<div>\n",
       "<style scoped>\n",
       "    .dataframe tbody tr th:only-of-type {\n",
       "        vertical-align: middle;\n",
       "    }\n",
       "\n",
       "    .dataframe tbody tr th {\n",
       "        vertical-align: top;\n",
       "    }\n",
       "\n",
       "    .dataframe thead th {\n",
       "        text-align: right;\n",
       "    }\n",
       "</style>\n",
       "<table border=\"1\" class=\"dataframe\">\n",
       "  <thead>\n",
       "    <tr style=\"text-align: right;\">\n",
       "      <th></th>\n",
       "      <th>A</th>\n",
       "      <th>B</th>\n",
       "      <th>C</th>\n",
       "    </tr>\n",
       "  </thead>\n",
       "  <tbody>\n",
       "    <tr>\n",
       "      <th>0</th>\n",
       "      <td>1</td>\n",
       "      <td>2</td>\n",
       "      <td>3</td>\n",
       "    </tr>\n",
       "    <tr>\n",
       "      <th>1</th>\n",
       "      <td>4</td>\n",
       "      <td>5</td>\n",
       "      <td>6</td>\n",
       "    </tr>\n",
       "    <tr>\n",
       "      <th>2</th>\n",
       "      <td>7</td>\n",
       "      <td>8</td>\n",
       "      <td>9</td>\n",
       "    </tr>\n",
       "  </tbody>\n",
       "</table>\n",
       "</div>"
      ],
      "text/plain": [
       "   A  B  C\n",
       "0  1  2  3\n",
       "1  4  5  6\n",
       "2  7  8  9"
      ]
     },
     "execution_count": 2,
     "metadata": {},
     "output_type": "execute_result"
    }
   ],
   "source": [
    "# Create Data Frame from list\n",
    "df = pd.DataFrame(data=np.array([[1,2,3],[4,5,6],[7,8,9]], dtype=int), columns=['A','B','C'])\n",
    "df"
   ]
  },
  {
   "cell_type": "code",
   "execution_count": 10,
   "metadata": {},
   "outputs": [
    {
     "data": {
      "text/html": [
       "<div>\n",
       "<style scoped>\n",
       "    .dataframe tbody tr th:only-of-type {\n",
       "        vertical-align: middle;\n",
       "    }\n",
       "\n",
       "    .dataframe tbody tr th {\n",
       "        vertical-align: top;\n",
       "    }\n",
       "\n",
       "    .dataframe thead th {\n",
       "        text-align: right;\n",
       "    }\n",
       "</style>\n",
       "<table border=\"1\" class=\"dataframe\">\n",
       "  <thead>\n",
       "    <tr style=\"text-align: right;\">\n",
       "      <th></th>\n",
       "      <th>A</th>\n",
       "      <th>B</th>\n",
       "      <th>C</th>\n",
       "    </tr>\n",
       "  </thead>\n",
       "  <tbody>\n",
       "    <tr>\n",
       "      <th>P</th>\n",
       "      <td>10</td>\n",
       "      <td>11</td>\n",
       "      <td>12</td>\n",
       "    </tr>\n",
       "    <tr>\n",
       "      <th>Q</th>\n",
       "      <td>13</td>\n",
       "      <td>14</td>\n",
       "      <td>15</td>\n",
       "    </tr>\n",
       "    <tr>\n",
       "      <th>R</th>\n",
       "      <td>16</td>\n",
       "      <td>17</td>\n",
       "      <td>18</td>\n",
       "    </tr>\n",
       "    <tr>\n",
       "      <th>S</th>\n",
       "      <td>19</td>\n",
       "      <td>20</td>\n",
       "      <td>21</td>\n",
       "    </tr>\n",
       "  </tbody>\n",
       "</table>\n",
       "</div>"
      ],
      "text/plain": [
       "    A   B   C\n",
       "P  10  11  12\n",
       "Q  13  14  15\n",
       "R  16  17  18\n",
       "S  19  20  21"
      ]
     },
     "execution_count": 10,
     "metadata": {},
     "output_type": "execute_result"
    }
   ],
   "source": [
    "# Named rows and columns\n",
    "\n",
    "df2 = pd.DataFrame(\n",
    "    data = np.array([[10,11,12],[13,14,15],[16,17,18],[19,20,21]]), \n",
    "    index = ['P','Q','R','S'], \n",
    "    columns =['A','B','C'] \n",
    ")\n",
    "df2\n"
   ]
  },
  {
   "cell_type": "code",
   "execution_count": 11,
   "metadata": {},
   "outputs": [
    {
     "data": {
      "text/plain": [
       "Index(['A', 'B', 'C'], dtype='object')"
      ]
     },
     "execution_count": 11,
     "metadata": {},
     "output_type": "execute_result"
    }
   ],
   "source": [
    "# Get the columns\n",
    "df.columns"
   ]
  },
  {
   "cell_type": "code",
   "execution_count": 12,
   "metadata": {},
   "outputs": [
    {
     "data": {
      "text/plain": [
       "Index(['A', 'B', 'C'], dtype='object')"
      ]
     },
     "execution_count": 12,
     "metadata": {},
     "output_type": "execute_result"
    }
   ],
   "source": [
    "df2.columns"
   ]
  },
  {
   "cell_type": "code",
   "execution_count": 13,
   "metadata": {},
   "outputs": [
    {
     "data": {
      "text/plain": [
       "RangeIndex(start=0, stop=3, step=1)"
      ]
     },
     "execution_count": 13,
     "metadata": {},
     "output_type": "execute_result"
    }
   ],
   "source": [
    "df.index"
   ]
  },
  {
   "cell_type": "code",
   "execution_count": 14,
   "metadata": {},
   "outputs": [
    {
     "data": {
      "text/plain": [
       "Index(['P', 'Q', 'R', 'S'], dtype='object')"
      ]
     },
     "execution_count": 14,
     "metadata": {},
     "output_type": "execute_result"
    }
   ],
   "source": [
    "df2.index"
   ]
  },
  {
   "cell_type": "markdown",
   "metadata": {},
   "source": [
    "# Slicing the Dataframes"
   ]
  },
  {
   "cell_type": "code",
   "execution_count": 16,
   "metadata": {},
   "outputs": [
    {
     "data": {
      "text/plain": [
       "A    4\n",
       "B    5\n",
       "C    6\n",
       "Name: 1, dtype: int64"
      ]
     },
     "execution_count": 16,
     "metadata": {},
     "output_type": "execute_result"
    }
   ],
   "source": [
    "# Get a specific row\n",
    "df.iloc[1]"
   ]
  },
  {
   "cell_type": "code",
   "execution_count": 17,
   "metadata": {},
   "outputs": [
    {
     "data": {
      "text/plain": [
       "A    1\n",
       "B    2\n",
       "C    3\n",
       "Name: 0, dtype: int64"
      ]
     },
     "execution_count": 17,
     "metadata": {},
     "output_type": "execute_result"
    }
   ],
   "source": [
    "df.iloc[0]"
   ]
  },
  {
   "cell_type": "code",
   "execution_count": 19,
   "metadata": {},
   "outputs": [
    {
     "data": {
      "text/plain": [
       "A    10\n",
       "B    11\n",
       "C    12\n",
       "Name: P, dtype: int64"
      ]
     },
     "execution_count": 19,
     "metadata": {},
     "output_type": "execute_result"
    }
   ],
   "source": [
    "# by Index name\n",
    "df2.loc['P']"
   ]
  },
  {
   "cell_type": "code",
   "execution_count": 21,
   "metadata": {},
   "outputs": [
    {
     "data": {
      "text/html": [
       "<div>\n",
       "<style scoped>\n",
       "    .dataframe tbody tr th:only-of-type {\n",
       "        vertical-align: middle;\n",
       "    }\n",
       "\n",
       "    .dataframe tbody tr th {\n",
       "        vertical-align: top;\n",
       "    }\n",
       "\n",
       "    .dataframe thead th {\n",
       "        text-align: right;\n",
       "    }\n",
       "</style>\n",
       "<table border=\"1\" class=\"dataframe\">\n",
       "  <thead>\n",
       "    <tr style=\"text-align: right;\">\n",
       "      <th></th>\n",
       "      <th>A</th>\n",
       "      <th>B</th>\n",
       "    </tr>\n",
       "  </thead>\n",
       "  <tbody>\n",
       "    <tr>\n",
       "      <th>P</th>\n",
       "      <td>10</td>\n",
       "      <td>11</td>\n",
       "    </tr>\n",
       "    <tr>\n",
       "      <th>Q</th>\n",
       "      <td>13</td>\n",
       "      <td>14</td>\n",
       "    </tr>\n",
       "    <tr>\n",
       "      <th>R</th>\n",
       "      <td>16</td>\n",
       "      <td>17</td>\n",
       "    </tr>\n",
       "  </tbody>\n",
       "</table>\n",
       "</div>"
      ],
      "text/plain": [
       "    A   B\n",
       "P  10  11\n",
       "Q  13  14\n",
       "R  16  17"
      ]
     },
     "execution_count": 21,
     "metadata": {},
     "output_type": "execute_result"
    }
   ],
   "source": [
    "# Subset of df2\n",
    "df3 = df2.iloc[0:3,0:2]\n",
    "df3"
   ]
  },
  {
   "cell_type": "code",
   "execution_count": 22,
   "metadata": {},
   "outputs": [
    {
     "data": {
      "text/html": [
       "<div>\n",
       "<style scoped>\n",
       "    .dataframe tbody tr th:only-of-type {\n",
       "        vertical-align: middle;\n",
       "    }\n",
       "\n",
       "    .dataframe tbody tr th {\n",
       "        vertical-align: top;\n",
       "    }\n",
       "\n",
       "    .dataframe thead th {\n",
       "        text-align: right;\n",
       "    }\n",
       "</style>\n",
       "<table border=\"1\" class=\"dataframe\">\n",
       "  <thead>\n",
       "    <tr style=\"text-align: right;\">\n",
       "      <th></th>\n",
       "      <th>A</th>\n",
       "      <th>B</th>\n",
       "    </tr>\n",
       "  </thead>\n",
       "  <tbody>\n",
       "    <tr>\n",
       "      <th>P</th>\n",
       "      <td>10</td>\n",
       "      <td>11</td>\n",
       "    </tr>\n",
       "    <tr>\n",
       "      <th>Q</th>\n",
       "      <td>13</td>\n",
       "      <td>14</td>\n",
       "    </tr>\n",
       "    <tr>\n",
       "      <th>R</th>\n",
       "      <td>16</td>\n",
       "      <td>17</td>\n",
       "    </tr>\n",
       "  </tbody>\n",
       "</table>\n",
       "</div>"
      ],
      "text/plain": [
       "    A   B\n",
       "P  10  11\n",
       "Q  13  14\n",
       "R  16  17"
      ]
     },
     "execution_count": 22,
     "metadata": {},
     "output_type": "execute_result"
    }
   ],
   "source": [
    "df4 = df2.iloc[0:3, 0:-1] # -1 means count from end. Here take everything but the last column\n",
    "df4"
   ]
  },
  {
   "cell_type": "code",
   "execution_count": 24,
   "metadata": {},
   "outputs": [
    {
     "data": {
      "text/html": [
       "<div>\n",
       "<style scoped>\n",
       "    .dataframe tbody tr th:only-of-type {\n",
       "        vertical-align: middle;\n",
       "    }\n",
       "\n",
       "    .dataframe tbody tr th {\n",
       "        vertical-align: top;\n",
       "    }\n",
       "\n",
       "    .dataframe thead th {\n",
       "        text-align: right;\n",
       "    }\n",
       "</style>\n",
       "<table border=\"1\" class=\"dataframe\">\n",
       "  <thead>\n",
       "    <tr style=\"text-align: right;\">\n",
       "      <th></th>\n",
       "      <th>A</th>\n",
       "    </tr>\n",
       "  </thead>\n",
       "  <tbody>\n",
       "    <tr>\n",
       "      <th>P</th>\n",
       "      <td>10</td>\n",
       "    </tr>\n",
       "    <tr>\n",
       "      <th>Q</th>\n",
       "      <td>13</td>\n",
       "    </tr>\n",
       "    <tr>\n",
       "      <th>R</th>\n",
       "      <td>16</td>\n",
       "    </tr>\n",
       "  </tbody>\n",
       "</table>\n",
       "</div>"
      ],
      "text/plain": [
       "    A\n",
       "P  10\n",
       "Q  13\n",
       "R  16"
      ]
     },
     "execution_count": 24,
     "metadata": {},
     "output_type": "execute_result"
    }
   ],
   "source": [
    "df4 = df2.iloc[0:3, 0:-2]\n",
    "df4"
   ]
  },
  {
   "cell_type": "code",
   "execution_count": 25,
   "metadata": {},
   "outputs": [
    {
     "data": {
      "text/plain": [
       "P    12\n",
       "Q    15\n",
       "R    18\n",
       "Name: C, dtype: int64"
      ]
     },
     "execution_count": 25,
     "metadata": {},
     "output_type": "execute_result"
    }
   ],
   "source": [
    "df4 = df2.iloc[0:3, -1] # only last column\n",
    "df4"
   ]
  },
  {
   "cell_type": "markdown",
   "metadata": {},
   "source": [
    "# Reading File"
   ]
  },
  {
   "cell_type": "code",
   "execution_count": 27,
   "metadata": {},
   "outputs": [
    {
     "data": {
      "text/html": [
       "<div>\n",
       "<style scoped>\n",
       "    .dataframe tbody tr th:only-of-type {\n",
       "        vertical-align: middle;\n",
       "    }\n",
       "\n",
       "    .dataframe tbody tr th {\n",
       "        vertical-align: top;\n",
       "    }\n",
       "\n",
       "    .dataframe thead th {\n",
       "        text-align: right;\n",
       "    }\n",
       "</style>\n",
       "<table border=\"1\" class=\"dataframe\">\n",
       "  <thead>\n",
       "    <tr style=\"text-align: right;\">\n",
       "      <th></th>\n",
       "      <th>first_name</th>\n",
       "      <th>last_name</th>\n",
       "      <th>company_name</th>\n",
       "      <th>address</th>\n",
       "      <th>city</th>\n",
       "      <th>county</th>\n",
       "      <th>postal</th>\n",
       "      <th>phone1</th>\n",
       "      <th>phone2</th>\n",
       "      <th>email</th>\n",
       "      <th>web</th>\n",
       "    </tr>\n",
       "  </thead>\n",
       "  <tbody>\n",
       "    <tr>\n",
       "      <th>0</th>\n",
       "      <td>Aleshia</td>\n",
       "      <td>Tomkiewicz</td>\n",
       "      <td>Alan D Rosenburg Cpa Pc</td>\n",
       "      <td>14 Taylor St</td>\n",
       "      <td>St. Stephens Ward</td>\n",
       "      <td>Kent</td>\n",
       "      <td>CT2 7PP</td>\n",
       "      <td>01835-703597</td>\n",
       "      <td>01944-369967</td>\n",
       "      <td>atomkiewicz@hotmail.com</td>\n",
       "      <td>http://www.alandrosenburgcpapc.co.uk</td>\n",
       "    </tr>\n",
       "    <tr>\n",
       "      <th>1</th>\n",
       "      <td>Evan</td>\n",
       "      <td>Zigomalas</td>\n",
       "      <td>Cap Gemini America</td>\n",
       "      <td>5 Binney St</td>\n",
       "      <td>Abbey Ward</td>\n",
       "      <td>Buckinghamshire</td>\n",
       "      <td>HP11 2AX</td>\n",
       "      <td>01937-864715</td>\n",
       "      <td>01714-737668</td>\n",
       "      <td>evan.zigomalas@gmail.com</td>\n",
       "      <td>http://www.capgeminiamerica.co.uk</td>\n",
       "    </tr>\n",
       "    <tr>\n",
       "      <th>2</th>\n",
       "      <td>France</td>\n",
       "      <td>Andrade</td>\n",
       "      <td>Elliott, John W Esq</td>\n",
       "      <td>8 Moor Place</td>\n",
       "      <td>East Southbourne and Tuckton W</td>\n",
       "      <td>Bournemouth</td>\n",
       "      <td>BH6 3BE</td>\n",
       "      <td>01347-368222</td>\n",
       "      <td>01935-821636</td>\n",
       "      <td>france.andrade@hotmail.com</td>\n",
       "      <td>http://www.elliottjohnwesq.co.uk</td>\n",
       "    </tr>\n",
       "    <tr>\n",
       "      <th>3</th>\n",
       "      <td>Ulysses</td>\n",
       "      <td>Mcwalters</td>\n",
       "      <td>Mcmahan, Ben L</td>\n",
       "      <td>505 Exeter Rd</td>\n",
       "      <td>Hawerby cum Beesby</td>\n",
       "      <td>Lincolnshire</td>\n",
       "      <td>DN36 5RP</td>\n",
       "      <td>01912-771311</td>\n",
       "      <td>01302-601380</td>\n",
       "      <td>ulysses@hotmail.com</td>\n",
       "      <td>http://www.mcmahanbenl.co.uk</td>\n",
       "    </tr>\n",
       "    <tr>\n",
       "      <th>4</th>\n",
       "      <td>Tyisha</td>\n",
       "      <td>Veness</td>\n",
       "      <td>Champagne Room</td>\n",
       "      <td>5396 Forth Street</td>\n",
       "      <td>Greets Green and Lyng Ward</td>\n",
       "      <td>West Midlands</td>\n",
       "      <td>B70 9DT</td>\n",
       "      <td>01547-429341</td>\n",
       "      <td>01290-367248</td>\n",
       "      <td>tyisha.veness@hotmail.com</td>\n",
       "      <td>http://www.champagneroom.co.uk</td>\n",
       "    </tr>\n",
       "    <tr>\n",
       "      <th>...</th>\n",
       "      <td>...</td>\n",
       "      <td>...</td>\n",
       "      <td>...</td>\n",
       "      <td>...</td>\n",
       "      <td>...</td>\n",
       "      <td>...</td>\n",
       "      <td>...</td>\n",
       "      <td>...</td>\n",
       "      <td>...</td>\n",
       "      <td>...</td>\n",
       "      <td>...</td>\n",
       "    </tr>\n",
       "    <tr>\n",
       "      <th>495</th>\n",
       "      <td>Avery</td>\n",
       "      <td>Veit</td>\n",
       "      <td>Plaza Gourmet Delicatessen</td>\n",
       "      <td>9166 Devon St #905</td>\n",
       "      <td>Knightsbridge and Belgravia Wa</td>\n",
       "      <td>Greater London</td>\n",
       "      <td>SW1W 8JY</td>\n",
       "      <td>01748-625058</td>\n",
       "      <td>01369-185737</td>\n",
       "      <td>avery@veit.co.uk</td>\n",
       "      <td>http://www.plazagourmetdelicatessen.co.uk</td>\n",
       "    </tr>\n",
       "    <tr>\n",
       "      <th>496</th>\n",
       "      <td>Reid</td>\n",
       "      <td>Euresti</td>\n",
       "      <td>Fitzgerald, Edward J</td>\n",
       "      <td>70 Foster St</td>\n",
       "      <td>Inverness Ness-Side Ward</td>\n",
       "      <td>Highland</td>\n",
       "      <td>IV2 6WT</td>\n",
       "      <td>01916-963261</td>\n",
       "      <td>01370-319414</td>\n",
       "      <td>reuresti@euresti.co.uk</td>\n",
       "      <td>http://www.fitzgeraldedwardj.co.uk</td>\n",
       "    </tr>\n",
       "    <tr>\n",
       "      <th>497</th>\n",
       "      <td>Charlette</td>\n",
       "      <td>Brenning</td>\n",
       "      <td>Furey &amp; Associates</td>\n",
       "      <td>714 Fonthill Rd</td>\n",
       "      <td>Darton West Ward</td>\n",
       "      <td>South Yorkshire</td>\n",
       "      <td>S75 5EJ</td>\n",
       "      <td>01888-152110</td>\n",
       "      <td>01301-312487</td>\n",
       "      <td>cbrenning@brenning.co.uk</td>\n",
       "      <td>http://www.fureyassociates.co.uk</td>\n",
       "    </tr>\n",
       "    <tr>\n",
       "      <th>498</th>\n",
       "      <td>Celestina</td>\n",
       "      <td>Keeny</td>\n",
       "      <td>Bfg Federal Credit Union</td>\n",
       "      <td>9 Milton St</td>\n",
       "      <td>Consett North ED</td>\n",
       "      <td>County Durham</td>\n",
       "      <td>DH8 5LP</td>\n",
       "      <td>01877-379681</td>\n",
       "      <td>01600-463475</td>\n",
       "      <td>celestina_keeny@gmail.com</td>\n",
       "      <td>http://www.bfgfederalcreditunion.co.uk</td>\n",
       "    </tr>\n",
       "    <tr>\n",
       "      <th>499</th>\n",
       "      <td>Mi</td>\n",
       "      <td>Richan</td>\n",
       "      <td>Nelson Wright Haworth Golf Crs</td>\n",
       "      <td>6 Norwood Grove</td>\n",
       "      <td>Tanworth-in-Arden</td>\n",
       "      <td>Warwickshire</td>\n",
       "      <td>B94 5RZ</td>\n",
       "      <td>01451-785624</td>\n",
       "      <td>01202-738406</td>\n",
       "      <td>mi@hotmail.com</td>\n",
       "      <td>http://www.nelsonwrighthaworthgolfcrs.co.uk</td>\n",
       "    </tr>\n",
       "  </tbody>\n",
       "</table>\n",
       "<p>500 rows × 11 columns</p>\n",
       "</div>"
      ],
      "text/plain": [
       "    first_name   last_name                    company_name  \\\n",
       "0      Aleshia  Tomkiewicz         Alan D Rosenburg Cpa Pc   \n",
       "1         Evan   Zigomalas              Cap Gemini America   \n",
       "2       France     Andrade             Elliott, John W Esq   \n",
       "3      Ulysses   Mcwalters                  Mcmahan, Ben L   \n",
       "4       Tyisha      Veness                  Champagne Room   \n",
       "..         ...         ...                             ...   \n",
       "495      Avery        Veit      Plaza Gourmet Delicatessen   \n",
       "496       Reid     Euresti            Fitzgerald, Edward J   \n",
       "497  Charlette    Brenning              Furey & Associates   \n",
       "498  Celestina       Keeny        Bfg Federal Credit Union   \n",
       "499         Mi      Richan  Nelson Wright Haworth Golf Crs   \n",
       "\n",
       "                address                            city           county  \\\n",
       "0          14 Taylor St               St. Stephens Ward             Kent   \n",
       "1           5 Binney St                      Abbey Ward  Buckinghamshire   \n",
       "2          8 Moor Place  East Southbourne and Tuckton W      Bournemouth   \n",
       "3         505 Exeter Rd              Hawerby cum Beesby     Lincolnshire   \n",
       "4     5396 Forth Street      Greets Green and Lyng Ward    West Midlands   \n",
       "..                  ...                             ...              ...   \n",
       "495  9166 Devon St #905  Knightsbridge and Belgravia Wa   Greater London   \n",
       "496        70 Foster St        Inverness Ness-Side Ward         Highland   \n",
       "497     714 Fonthill Rd                Darton West Ward  South Yorkshire   \n",
       "498         9 Milton St                Consett North ED    County Durham   \n",
       "499     6 Norwood Grove               Tanworth-in-Arden     Warwickshire   \n",
       "\n",
       "       postal        phone1        phone2                       email  \\\n",
       "0     CT2 7PP  01835-703597  01944-369967     atomkiewicz@hotmail.com   \n",
       "1    HP11 2AX  01937-864715  01714-737668    evan.zigomalas@gmail.com   \n",
       "2     BH6 3BE  01347-368222  01935-821636  france.andrade@hotmail.com   \n",
       "3    DN36 5RP  01912-771311  01302-601380         ulysses@hotmail.com   \n",
       "4     B70 9DT  01547-429341  01290-367248   tyisha.veness@hotmail.com   \n",
       "..        ...           ...           ...                         ...   \n",
       "495  SW1W 8JY  01748-625058  01369-185737            avery@veit.co.uk   \n",
       "496   IV2 6WT  01916-963261  01370-319414      reuresti@euresti.co.uk   \n",
       "497   S75 5EJ  01888-152110  01301-312487    cbrenning@brenning.co.uk   \n",
       "498   DH8 5LP  01877-379681  01600-463475   celestina_keeny@gmail.com   \n",
       "499   B94 5RZ  01451-785624  01202-738406              mi@hotmail.com   \n",
       "\n",
       "                                             web  \n",
       "0           http://www.alandrosenburgcpapc.co.uk  \n",
       "1              http://www.capgeminiamerica.co.uk  \n",
       "2               http://www.elliottjohnwesq.co.uk  \n",
       "3                   http://www.mcmahanbenl.co.uk  \n",
       "4                 http://www.champagneroom.co.uk  \n",
       "..                                           ...  \n",
       "495    http://www.plazagourmetdelicatessen.co.uk  \n",
       "496           http://www.fitzgeraldedwardj.co.uk  \n",
       "497             http://www.fureyassociates.co.uk  \n",
       "498       http://www.bfgfederalcreditunion.co.uk  \n",
       "499  http://www.nelsonwrighthaworthgolfcrs.co.uk  \n",
       "\n",
       "[500 rows x 11 columns]"
      ]
     },
     "execution_count": 27,
     "metadata": {},
     "output_type": "execute_result"
    }
   ],
   "source": [
    "dfh = pd.read_csv('https://s3-eu-west-1.amazonaws.com/shanebucket/downloads/uk-500.csv')\n",
    "dfh"
   ]
  },
  {
   "cell_type": "markdown",
   "metadata": {},
   "source": [
    "# Pandas Timeseries"
   ]
  },
  {
   "cell_type": "code",
   "execution_count": 29,
   "metadata": {},
   "outputs": [],
   "source": [
    "import numpy as np\n",
    "import pandas as pd\n",
    "import matplotlib.pyplot as plt"
   ]
  },
  {
   "cell_type": "code",
   "execution_count": 30,
   "metadata": {},
   "outputs": [
    {
     "data": {
      "text/html": [
       "<div>\n",
       "<style scoped>\n",
       "    .dataframe tbody tr th:only-of-type {\n",
       "        vertical-align: middle;\n",
       "    }\n",
       "\n",
       "    .dataframe tbody tr th {\n",
       "        vertical-align: top;\n",
       "    }\n",
       "\n",
       "    .dataframe thead th {\n",
       "        text-align: right;\n",
       "    }\n",
       "</style>\n",
       "<table border=\"1\" class=\"dataframe\">\n",
       "  <thead>\n",
       "    <tr style=\"text-align: right;\">\n",
       "      <th></th>\n",
       "      <th>Date</th>\n",
       "      <th>Fremont Bridge Total</th>\n",
       "      <th>Fremont Bridge East Sidewalk</th>\n",
       "      <th>Fremont Bridge West Sidewalk</th>\n",
       "    </tr>\n",
       "  </thead>\n",
       "  <tbody>\n",
       "    <tr>\n",
       "      <th>0</th>\n",
       "      <td>10/03/2012 12:00:00 AM</td>\n",
       "      <td>13.0</td>\n",
       "      <td>4.0</td>\n",
       "      <td>9.0</td>\n",
       "    </tr>\n",
       "    <tr>\n",
       "      <th>1</th>\n",
       "      <td>10/03/2012 01:00:00 AM</td>\n",
       "      <td>10.0</td>\n",
       "      <td>4.0</td>\n",
       "      <td>6.0</td>\n",
       "    </tr>\n",
       "    <tr>\n",
       "      <th>2</th>\n",
       "      <td>10/03/2012 02:00:00 AM</td>\n",
       "      <td>2.0</td>\n",
       "      <td>1.0</td>\n",
       "      <td>1.0</td>\n",
       "    </tr>\n",
       "    <tr>\n",
       "      <th>3</th>\n",
       "      <td>10/03/2012 03:00:00 AM</td>\n",
       "      <td>5.0</td>\n",
       "      <td>2.0</td>\n",
       "      <td>3.0</td>\n",
       "    </tr>\n",
       "    <tr>\n",
       "      <th>4</th>\n",
       "      <td>10/03/2012 04:00:00 AM</td>\n",
       "      <td>7.0</td>\n",
       "      <td>6.0</td>\n",
       "      <td>1.0</td>\n",
       "    </tr>\n",
       "  </tbody>\n",
       "</table>\n",
       "</div>"
      ],
      "text/plain": [
       "                     Date  Fremont Bridge Total  Fremont Bridge East Sidewalk  \\\n",
       "0  10/03/2012 12:00:00 AM                  13.0                           4.0   \n",
       "1  10/03/2012 01:00:00 AM                  10.0                           4.0   \n",
       "2  10/03/2012 02:00:00 AM                   2.0                           1.0   \n",
       "3  10/03/2012 03:00:00 AM                   5.0                           2.0   \n",
       "4  10/03/2012 04:00:00 AM                   7.0                           6.0   \n",
       "\n",
       "   Fremont Bridge West Sidewalk  \n",
       "0                           9.0  \n",
       "1                           6.0  \n",
       "2                           1.0  \n",
       "3                           3.0  \n",
       "4                           1.0  "
      ]
     },
     "execution_count": 30,
     "metadata": {},
     "output_type": "execute_result"
    }
   ],
   "source": [
    "# Read the csv file\n",
    "df = pd.read_csv(\"data/Fremont_Bridge_Bicycle_Counter.csv\")\n",
    "df.head()"
   ]
  },
  {
   "cell_type": "markdown",
   "metadata": {},
   "source": [
    "The index is default (0,1,2..). To use Pandas as timeseries, we need the index to be timestamp or date. Lets replace index with the Date column"
   ]
  },
  {
   "cell_type": "code",
   "execution_count": 31,
   "metadata": {},
   "outputs": [
    {
     "data": {
      "text/html": [
       "<div>\n",
       "<style scoped>\n",
       "    .dataframe tbody tr th:only-of-type {\n",
       "        vertical-align: middle;\n",
       "    }\n",
       "\n",
       "    .dataframe tbody tr th {\n",
       "        vertical-align: top;\n",
       "    }\n",
       "\n",
       "    .dataframe thead th {\n",
       "        text-align: right;\n",
       "    }\n",
       "</style>\n",
       "<table border=\"1\" class=\"dataframe\">\n",
       "  <thead>\n",
       "    <tr style=\"text-align: right;\">\n",
       "      <th></th>\n",
       "      <th>Fremont Bridge Total</th>\n",
       "      <th>Fremont Bridge East Sidewalk</th>\n",
       "      <th>Fremont Bridge West Sidewalk</th>\n",
       "    </tr>\n",
       "    <tr>\n",
       "      <th>Date</th>\n",
       "      <th></th>\n",
       "      <th></th>\n",
       "      <th></th>\n",
       "    </tr>\n",
       "  </thead>\n",
       "  <tbody>\n",
       "    <tr>\n",
       "      <th>2012-10-03 00:00:00</th>\n",
       "      <td>13.0</td>\n",
       "      <td>4.0</td>\n",
       "      <td>9.0</td>\n",
       "    </tr>\n",
       "    <tr>\n",
       "      <th>2012-10-03 01:00:00</th>\n",
       "      <td>10.0</td>\n",
       "      <td>4.0</td>\n",
       "      <td>6.0</td>\n",
       "    </tr>\n",
       "    <tr>\n",
       "      <th>2012-10-03 02:00:00</th>\n",
       "      <td>2.0</td>\n",
       "      <td>1.0</td>\n",
       "      <td>1.0</td>\n",
       "    </tr>\n",
       "    <tr>\n",
       "      <th>2012-10-03 03:00:00</th>\n",
       "      <td>5.0</td>\n",
       "      <td>2.0</td>\n",
       "      <td>3.0</td>\n",
       "    </tr>\n",
       "    <tr>\n",
       "      <th>2012-10-03 04:00:00</th>\n",
       "      <td>7.0</td>\n",
       "      <td>6.0</td>\n",
       "      <td>1.0</td>\n",
       "    </tr>\n",
       "  </tbody>\n",
       "</table>\n",
       "</div>"
      ],
      "text/plain": [
       "                     Fremont Bridge Total  Fremont Bridge East Sidewalk  \\\n",
       "Date                                                                      \n",
       "2012-10-03 00:00:00                  13.0                           4.0   \n",
       "2012-10-03 01:00:00                  10.0                           4.0   \n",
       "2012-10-03 02:00:00                   2.0                           1.0   \n",
       "2012-10-03 03:00:00                   5.0                           2.0   \n",
       "2012-10-03 04:00:00                   7.0                           6.0   \n",
       "\n",
       "                     Fremont Bridge West Sidewalk  \n",
       "Date                                               \n",
       "2012-10-03 00:00:00                           9.0  \n",
       "2012-10-03 01:00:00                           6.0  \n",
       "2012-10-03 02:00:00                           1.0  \n",
       "2012-10-03 03:00:00                           3.0  \n",
       "2012-10-03 04:00:00                           1.0  "
      ]
     },
     "execution_count": 31,
     "metadata": {},
     "output_type": "execute_result"
    }
   ],
   "source": [
    "df = pd.read_csv(\"data/Fremont_Bridge_Bicycle_Counter.csv\", index_col=\"Date\", parse_dates=True)\n",
    "df.head()"
   ]
  },
  {
   "cell_type": "code",
   "execution_count": 32,
   "metadata": {},
   "outputs": [
    {
     "data": {
      "image/png": "[encoded data removed]",
      "text/plain": [
       "<Figure size 432x288 with 1 Axes>"
      ]
     },
     "metadata": {
      "needs_background": "light"
     },
     "output_type": "display_data"
    }
   ],
   "source": [
    "# plot the data\n",
    "df.plot()\n",
    "plt.show()"
   ]
  },
  {
   "cell_type": "code",
   "execution_count": 38,
   "metadata": {},
   "outputs": [
    {
     "data": {
      "text/html": [
       "<div>\n",
       "<style scoped>\n",
       "    .dataframe tbody tr th:only-of-type {\n",
       "        vertical-align: middle;\n",
       "    }\n",
       "\n",
       "    .dataframe tbody tr th {\n",
       "        vertical-align: top;\n",
       "    }\n",
       "\n",
       "    .dataframe thead th {\n",
       "        text-align: right;\n",
       "    }\n",
       "</style>\n",
       "<table border=\"1\" class=\"dataframe\">\n",
       "  <thead>\n",
       "    <tr style=\"text-align: right;\">\n",
       "      <th></th>\n",
       "      <th>Fremont Bridge Total</th>\n",
       "      <th>Fremont Bridge East Sidewalk</th>\n",
       "      <th>Fremont Bridge West Sidewalk</th>\n",
       "    </tr>\n",
       "  </thead>\n",
       "  <tbody>\n",
       "    <tr>\n",
       "      <th>00:00:00</th>\n",
       "      <td>11.344784</td>\n",
       "      <td>4.810879</td>\n",
       "      <td>6.533906</td>\n",
       "    </tr>\n",
       "    <tr>\n",
       "      <th>01:00:00</th>\n",
       "      <td>6.010199</td>\n",
       "      <td>2.692432</td>\n",
       "      <td>3.317767</td>\n",
       "    </tr>\n",
       "    <tr>\n",
       "      <th>02:00:00</th>\n",
       "      <td>3.956241</td>\n",
       "      <td>1.898314</td>\n",
       "      <td>2.057927</td>\n",
       "    </tr>\n",
       "    <tr>\n",
       "      <th>03:00:00</th>\n",
       "      <td>2.912865</td>\n",
       "      <td>1.498300</td>\n",
       "      <td>1.414564</td>\n",
       "    </tr>\n",
       "    <tr>\n",
       "      <th>04:00:00</th>\n",
       "      <td>6.507604</td>\n",
       "      <td>3.453212</td>\n",
       "      <td>3.054393</td>\n",
       "    </tr>\n",
       "    <tr>\n",
       "      <th>05:00:00</th>\n",
       "      <td>25.618179</td>\n",
       "      <td>15.674003</td>\n",
       "      <td>9.944176</td>\n",
       "    </tr>\n",
       "    <tr>\n",
       "      <th>06:00:00</th>\n",
       "      <td>90.219181</td>\n",
       "      <td>54.306674</td>\n",
       "      <td>35.912507</td>\n",
       "    </tr>\n",
       "    <tr>\n",
       "      <th>07:00:00</th>\n",
       "      <td>228.081947</td>\n",
       "      <td>141.694221</td>\n",
       "      <td>86.387726</td>\n",
       "    </tr>\n",
       "    <tr>\n",
       "      <th>08:00:00</th>\n",
       "      <td>323.983360</td>\n",
       "      <td>191.022902</td>\n",
       "      <td>132.960458</td>\n",
       "    </tr>\n",
       "    <tr>\n",
       "      <th>09:00:00</th>\n",
       "      <td>189.167174</td>\n",
       "      <td>102.718991</td>\n",
       "      <td>86.448183</td>\n",
       "    </tr>\n",
       "    <tr>\n",
       "      <th>10:00:00</th>\n",
       "      <td>99.947020</td>\n",
       "      <td>52.281188</td>\n",
       "      <td>47.665831</td>\n",
       "    </tr>\n",
       "    <tr>\n",
       "      <th>11:00:00</th>\n",
       "      <td>88.553607</td>\n",
       "      <td>45.929837</td>\n",
       "      <td>42.623769</td>\n",
       "    </tr>\n",
       "    <tr>\n",
       "      <th>12:00:00</th>\n",
       "      <td>94.399320</td>\n",
       "      <td>47.913728</td>\n",
       "      <td>46.485592</td>\n",
       "    </tr>\n",
       "    <tr>\n",
       "      <th>13:00:00</th>\n",
       "      <td>101.073001</td>\n",
       "      <td>50.355162</td>\n",
       "      <td>50.717839</td>\n",
       "    </tr>\n",
       "    <tr>\n",
       "      <th>14:00:00</th>\n",
       "      <td>110.189692</td>\n",
       "      <td>52.624374</td>\n",
       "      <td>57.565319</td>\n",
       "    </tr>\n",
       "    <tr>\n",
       "      <th>15:00:00</th>\n",
       "      <td>140.440945</td>\n",
       "      <td>62.173407</td>\n",
       "      <td>78.267538</td>\n",
       "    </tr>\n",
       "    <tr>\n",
       "      <th>16:00:00</th>\n",
       "      <td>232.711704</td>\n",
       "      <td>83.212241</td>\n",
       "      <td>149.499463</td>\n",
       "    </tr>\n",
       "    <tr>\n",
       "      <th>17:00:00</th>\n",
       "      <td>390.100215</td>\n",
       "      <td>112.759485</td>\n",
       "      <td>277.340730</td>\n",
       "    </tr>\n",
       "    <tr>\n",
       "      <th>18:00:00</th>\n",
       "      <td>264.869900</td>\n",
       "      <td>89.476199</td>\n",
       "      <td>175.393701</td>\n",
       "    </tr>\n",
       "    <tr>\n",
       "      <th>19:00:00</th>\n",
       "      <td>129.883679</td>\n",
       "      <td>49.270222</td>\n",
       "      <td>80.613457</td>\n",
       "    </tr>\n",
       "    <tr>\n",
       "      <th>20:00:00</th>\n",
       "      <td>74.431460</td>\n",
       "      <td>30.206514</td>\n",
       "      <td>44.224946</td>\n",
       "    </tr>\n",
       "    <tr>\n",
       "      <th>21:00:00</th>\n",
       "      <td>47.649248</td>\n",
       "      <td>20.794918</td>\n",
       "      <td>26.854331</td>\n",
       "    </tr>\n",
       "    <tr>\n",
       "      <th>22:00:00</th>\n",
       "      <td>31.228525</td>\n",
       "      <td>13.434860</td>\n",
       "      <td>17.793665</td>\n",
       "    </tr>\n",
       "    <tr>\n",
       "      <th>23:00:00</th>\n",
       "      <td>20.575340</td>\n",
       "      <td>8.422155</td>\n",
       "      <td>12.153185</td>\n",
       "    </tr>\n",
       "  </tbody>\n",
       "</table>\n",
       "</div>"
      ],
      "text/plain": [
       "          Fremont Bridge Total  Fremont Bridge East Sidewalk  \\\n",
       "00:00:00             11.344784                      4.810879   \n",
       "01:00:00              6.010199                      2.692432   \n",
       "02:00:00              3.956241                      1.898314   \n",
       "03:00:00              2.912865                      1.498300   \n",
       "04:00:00              6.507604                      3.453212   \n",
       "05:00:00             25.618179                     15.674003   \n",
       "06:00:00             90.219181                     54.306674   \n",
       "07:00:00            228.081947                    141.694221   \n",
       "08:00:00            323.983360                    191.022902   \n",
       "09:00:00            189.167174                    102.718991   \n",
       "10:00:00             99.947020                     52.281188   \n",
       "11:00:00             88.553607                     45.929837   \n",
       "12:00:00             94.399320                     47.913728   \n",
       "13:00:00            101.073001                     50.355162   \n",
       "14:00:00            110.189692                     52.624374   \n",
       "15:00:00            140.440945                     62.173407   \n",
       "16:00:00            232.711704                     83.212241   \n",
       "17:00:00            390.100215                    112.759485   \n",
       "18:00:00            264.869900                     89.476199   \n",
       "19:00:00            129.883679                     49.270222   \n",
       "20:00:00             74.431460                     30.206514   \n",
       "21:00:00             47.649248                     20.794918   \n",
       "22:00:00             31.228525                     13.434860   \n",
       "23:00:00             20.575340                      8.422155   \n",
       "\n",
       "          Fremont Bridge West Sidewalk  \n",
       "00:00:00                      6.533906  \n",
       "01:00:00                      3.317767  \n",
       "02:00:00                      2.057927  \n",
       "03:00:00                      1.414564  \n",
       "04:00:00                      3.054393  \n",
       "05:00:00                      9.944176  \n",
       "06:00:00                     35.912507  \n",
       "07:00:00                     86.387726  \n",
       "08:00:00                    132.960458  \n",
       "09:00:00                     86.448183  \n",
       "10:00:00                     47.665831  \n",
       "11:00:00                     42.623769  \n",
       "12:00:00                     46.485592  \n",
       "13:00:00                     50.717839  \n",
       "14:00:00                     57.565319  \n",
       "15:00:00                     78.267538  \n",
       "16:00:00                    149.499463  \n",
       "17:00:00                    277.340730  \n",
       "18:00:00                    175.393701  \n",
       "19:00:00                     80.613457  \n",
       "20:00:00                     44.224946  \n",
       "21:00:00                     26.854331  \n",
       "22:00:00                     17.793665  \n",
       "23:00:00                     12.153185  "
      ]
     },
     "execution_count": 38,
     "metadata": {},
     "output_type": "execute_result"
    }
   ],
   "source": [
    "# Average traffic in the day by hours\n",
    "df_timewise = df.groupby(df.index.time).mean() # group by time-component and get mean of all columns\n",
    "df_timewise"
   ]
  },
  {
   "cell_type": "code",
   "execution_count": 39,
   "metadata": {},
   "outputs": [
    {
     "data": {
      "image/png": "[encoded data removed]",
      "text/plain": [
       "<Figure size 432x288 with 1 Axes>"
      ]
     },
     "metadata": {
      "needs_background": "light"
     },
     "output_type": "display_data"
    }
   ],
   "source": [
    "df_timewise.plot()\n",
    "plt.show()"
   ]
  },
  {
   "cell_type": "code",
   "execution_count": 42,
   "metadata": {},
   "outputs": [
    {
     "data": {
      "text/plain": [
       "array([    0, 14400, 28800, 43200, 57600, 72000])"
      ]
     },
     "execution_count": 42,
     "metadata": {},
     "output_type": "execute_result"
    }
   ],
   "source": [
    "# to break by 4 hour intervals\n",
    "np.arange(6) # array([0, 1, 2, 3, 4, 5])\n",
    "hr_ticks = 4*60*60*np.arange(6) #array([    0, 14400, 28800, 43200, 57600, 72000])\n"
   ]
  },
  {
   "cell_type": "code",
   "execution_count": 44,
   "metadata": {},
   "outputs": [
    {
     "data": {
      "image/png": "[encoded data removed]",
      "text/plain": [
       "<Figure size 432x288 with 1 Axes>"
      ]
     },
     "metadata": {
      "needs_background": "light"
     },
     "output_type": "display_data"
    }
   ],
   "source": [
    "df_timewise.plot(xticks=hr_ticks) # Set the X-axis to hr_ticks to mark X-Axis accordingly\n",
    "plt.show()"
   ]
  },
  {
   "cell_type": "code",
   "execution_count": 45,
   "metadata": {},
   "outputs": [
    {
     "data": {
      "image/png": "[encoded data removed]",
      "text/plain": [
       "<Figure size 432x288 with 1 Axes>"
      ]
     },
     "metadata": {
      "needs_background": "light"
     },
     "output_type": "display_data"
    }
   ],
   "source": [
    "# Same analysis by day of week\n",
    "df_day_of_week=df.groupby(df.index.dayofweek).mean() # 0-monday, 6-sunday\n",
    "df_day_of_week.plot()\n",
    "plt.show()"
   ]
  },
  {
   "cell_type": "code",
   "execution_count": 46,
   "metadata": {},
   "outputs": [
    {
     "name": "stderr",
     "output_type": "stream",
     "text": [
      "/Users/ntnmathur/.pyenv/versions/3.8.5/lib/python3.8/site-packages/pandas/plotting/_matplotlib/core.py:1235: UserWarning: FixedFormatter should only be used together with FixedLocator\n",
      "  ax.set_xticklabels(xticklabels)\n"
     ]
    },
    {
     "data": {
      "image/png": "[encoded data removed]",
      "text/plain": [
       "<Figure size 432x288 with 1 Axes>"
      ]
     },
     "metadata": {
      "needs_background": "light"
     },
     "output_type": "display_data"
    }
   ],
   "source": [
    "# Same analysis by day of week - named\n",
    "df_day_of_week.index=['Mon','Tue','Wed','Thu','Fri','Sat','Sun']\n",
    "df_day_of_week.plot()\n",
    "plt.show()"
   ]
  },
  {
   "cell_type": "code",
   "execution_count": null,
   "metadata": {},
   "outputs": [],
   "source": []
  }
 ],
 "metadata": {
  "kernelspec": {
   "display_name": "Python 3",
   "language": "python",
   "name": "python3"
  },
  "language_info": {
   "codemirror_mode": {
    "name": "ipython",
    "version": 3
   },
   "file_extension": ".py",
   "mimetype": "text/x-python",
   "name": "python",
   "nbconvert_exporter": "python",
   "pygments_lexer": "ipython3",
   "version": "3.8.5"
  }
 },
 "nbformat": 4,
 "nbformat_minor": 4
}
