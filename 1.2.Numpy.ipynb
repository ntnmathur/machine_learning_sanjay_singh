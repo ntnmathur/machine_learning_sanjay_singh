{
 "cells": [
  {
   "cell_type": "code",
   "execution_count": 5,
   "metadata": {},
   "outputs": [
    {
     "data": {
      "text/plain": [
       "array([  3,   5,  10, 199, 250])"
      ]
     },
     "execution_count": 5,
     "metadata": {},
     "output_type": "execute_result"
    }
   ],
   "source": [
    "# Sorting a list\n",
    "import numpy as np\n",
    "list1 = [10, 3, 5, 199, 250]\n",
    "np.sort(list1)"
   ]
  },
  {
   "cell_type": "markdown",
   "metadata": {},
   "source": [
    "### Scalar: \n",
    "Single value Ex: 1, 2, etc\n",
    "\n",
    "### Vector:\n",
    "Represented as single dimensional array. Ex: [1,2]\n",
    "\n",
    "### Matrix:\n",
    "Multi-dimensional array. \n",
    "Ex: \n",
    "[\n",
    "    [1,2],\n",
    "    [3,4],\n",
    "    [5,6],\n",
    "]"
   ]
  },
  {
   "cell_type": "code",
   "execution_count": null,
   "metadata": {},
   "outputs": [],
   "source": []
  }
 ],
 "metadata": {
  "kernelspec": {
   "display_name": "Python 3",
   "language": "python",
   "name": "python3"
  },
  "language_info": {
   "codemirror_mode": {
    "name": "ipython",
    "version": 3
   },
   "file_extension": ".py",
   "mimetype": "text/x-python",
   "name": "python",
   "nbconvert_exporter": "python",
   "pygments_lexer": "ipython3",
   "version": "3.8.5"
  }
 },
 "nbformat": 4,
 "nbformat_minor": 4
}
