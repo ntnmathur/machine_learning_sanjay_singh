{
 "cells": [
  {
   "cell_type": "markdown",
   "metadata": {},
   "source": [
    "# Terms and Keywords\n",
    "\n",
    "**Labels/ Target Variable/ Prediction**: This is the value we need to predict.\n",
    "\n",
    "**Independent variables/ Predictors/ Features/ Observations**: All the remaining attributes provided to predict the labels.\n",
    "\n",
    "**Row/ Sample/ Instance/ Observartion**: Each instance of a feature value.\n",
    "\n",
    "**Feature Matrix**: All the values of features are together passed as feature matrix to ML algorithm and targets are predicted as target array.\n"
   ]
  },
  {
   "attachments": {},
   "cell_type": "markdown",
   "metadata": {},
   "source": [
    "# Types of Machine Learning Algorithms\n",
    "![my_image](images/1_ml_types.png)\n",
    "\n",
    "\n",
    "## Supervised:\n",
    "Data can be fit to a formula\n",
    "\n",
    "### Regression:\n",
    "Predict next real value. \n",
    "\n",
    "### Classification:\n",
    "Predict yes or no. Binary or from a set of values.\n",
    "\n",
    "**NOTE**: Support Vector Machine, K-Nearest Neighbor & Random Forest can be used for Classification or Regression\n",
    "\n",
    "\n",
    "## UnSupervised:\n",
    "Data cannot be fit in formula. No labels, no formula. Eg: Images\n",
    "\n",
    "\n",
    "## Reinforcement:\n",
    "Trial and Error\n"
   ]
  },
  {
   "cell_type": "markdown",
   "metadata": {},
   "source": [
    "# Types of Data"
   ]
  },
  {
   "cell_type": "code",
   "execution_count": null,
   "metadata": {},
   "outputs": [],
   "source": []
  }
 ],
 "metadata": {
  "kernelspec": {
   "display_name": "Python 3",
   "language": "python",
   "name": "python3"
  },
  "language_info": {
   "codemirror_mode": {
    "name": "ipython",
    "version": 3
   },
   "file_extension": ".py",
   "mimetype": "text/x-python",
   "name": "python",
   "nbconvert_exporter": "python",
   "pygments_lexer": "ipython3",
   "version": "3.8.5"
  }
 },
 "nbformat": 4,
 "nbformat_minor": 4
}
