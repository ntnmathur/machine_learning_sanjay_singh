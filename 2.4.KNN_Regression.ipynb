{
 "cells": [
  {
   "cell_type": "markdown",
   "metadata": {},
   "source": [
    "![my_image](images/9_KNN_1.png)"
   ]
  },
  {
   "cell_type": "markdown",
   "metadata": {},
   "source": [
    "In KNN we divide the data into 2 groups and then try to predict where a new data point would fall.\n",
    "\n",
    "![my_image](images/9_KNN_2.png)"
   ]
  },
  {
   "cell_type": "markdown",
   "metadata": {},
   "source": [
    "To predict where the new (green dot) would fall, we need to consider the neighbors around it.<br>\n",
    "k = number of neighbors to consider.\n",
    "\n",
    "Example: if k=3\n",
    "![my_image](images/9_KNN_3.png)\n",
    "\n",
    "In this case, we have yes=2 and no=3. Hence, the answer is Yes"
   ]
  },
  {
   "cell_type": "markdown",
   "metadata": {},
   "source": [
    "Now lets consider k=5 and see how answer changes.\n",
    "![my_image](images/9_KNN_4.png)"
   ]
  },
  {
   "attachments": {},
   "cell_type": "markdown",
   "metadata": {},
   "source": [
    "Once we choose a value of k, we need to decide which k points to consider. To get the nearest k points we need to consider the ones that are closest. In order to determine the closest, we need to calculate the distance:\n",
    "\n",
    "![my_image](images/9_KNN_5.png)"
   ]
  }
 ],
 "metadata": {
  "kernelspec": {
   "display_name": "Python 3",
   "language": "python",
   "name": "python3"
  },
  "language_info": {
   "codemirror_mode": {
    "name": "ipython",
    "version": 3
   },
   "file_extension": ".py",
   "mimetype": "text/x-python",
   "name": "python",
   "nbconvert_exporter": "python",
   "pygments_lexer": "ipython3",
   "version": "3.8.5"
  }
 },
 "nbformat": 4,
 "nbformat_minor": 4
}
